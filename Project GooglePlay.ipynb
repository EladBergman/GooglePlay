{
 "cells": [
  {
   "cell_type": "markdown",
   "metadata": {},
   "source": [
    "\n",
    "# Predicting How Much Installs Our Application Could have\n",
    "\n",
    "The Applications' Market for Android OS is fast growing in the past few years.<br>\n",
    "In this project, we are working for a development team that wants to create a popluar app which will capture the Android market.<br>\n",
    "We will try, in this project, to find the features of the most popular applications in \"Google Play\" store and to predict their installs based on those features.\n",
    "\n",
    "## Summary of Results\n",
    "\n",
    "- Although 90% of apps are free of charge, users tend to pay for apps from genres Tools,Entertainment and Education.<br>\n",
    "- 50% of apps were installed each more then 1M times. We suggest our development team to aim for installing their app 1M or more times in order to define the success of app. <br>\n",
    "- The most popular genres are: Social, Casual, Sports, Strategy and Education.\n",
    "- Strategy gemes are the most reviewed among all genres.\n",
    "- Liniar regression algorithm with certain genres as features has the best performance while predicting the apps' installs\n",
    "\n",
    "For more details, please refer to the full analysis below.\n",
    "\n",
    "\n",
    "# The Dataset\n",
    "\n",
    "We will work with a web scraped dataset from \"kaggle.com\" website that consists of 10,841 \"Google-Play\" Store apps for analyzing the Android market.<br>\n",
    "Here you can find an attached link for this dataset: https://www.kaggle.com/lava18/google-play-store-apps\n"
   ]
  },
  {
   "cell_type": "code",
   "execution_count": 1,
   "metadata": {},
   "outputs": [],
   "source": [
    "#Read in the files\n",
    "import pandas as pd\n",
    "raw_google_play=pd.read_csv(r'C:\\Users\\Elad\\Desktop\\Datasets\\google play\\googleplaystore.csv')"
   ]
  },
  {
   "cell_type": "code",
   "execution_count": 2,
   "metadata": {},
   "outputs": [
    {
     "name": "stdout",
     "output_type": "stream",
     "text": [
      "(10841, 13)\n"
     ]
    },
    {
     "data": {
      "text/html": [
       "<div>\n",
       "<style scoped>\n",
       "    .dataframe tbody tr th:only-of-type {\n",
       "        vertical-align: middle;\n",
       "    }\n",
       "\n",
       "    .dataframe tbody tr th {\n",
       "        vertical-align: top;\n",
       "    }\n",
       "\n",
       "    .dataframe thead th {\n",
       "        text-align: right;\n",
       "    }\n",
       "</style>\n",
       "<table border=\"1\" class=\"dataframe\">\n",
       "  <thead>\n",
       "    <tr style=\"text-align: right;\">\n",
       "      <th></th>\n",
       "      <th>App</th>\n",
       "      <th>Category</th>\n",
       "      <th>Rating</th>\n",
       "      <th>Reviews</th>\n",
       "      <th>Size</th>\n",
       "      <th>Installs</th>\n",
       "      <th>Type</th>\n",
       "      <th>Price</th>\n",
       "      <th>Content Rating</th>\n",
       "      <th>Genres</th>\n",
       "      <th>Last Updated</th>\n",
       "      <th>Current Ver</th>\n",
       "      <th>Android Ver</th>\n",
       "    </tr>\n",
       "  </thead>\n",
       "  <tbody>\n",
       "    <tr>\n",
       "      <th>0</th>\n",
       "      <td>Photo Editor &amp; Candy Camera &amp; Grid &amp; ScrapBook</td>\n",
       "      <td>ART_AND_DESIGN</td>\n",
       "      <td>4.1</td>\n",
       "      <td>159</td>\n",
       "      <td>19M</td>\n",
       "      <td>10,000+</td>\n",
       "      <td>Free</td>\n",
       "      <td>0</td>\n",
       "      <td>Everyone</td>\n",
       "      <td>Art &amp; Design</td>\n",
       "      <td>January 7, 2018</td>\n",
       "      <td>1.0.0</td>\n",
       "      <td>4.0.3 and up</td>\n",
       "    </tr>\n",
       "    <tr>\n",
       "      <th>1</th>\n",
       "      <td>Coloring book moana</td>\n",
       "      <td>ART_AND_DESIGN</td>\n",
       "      <td>3.9</td>\n",
       "      <td>967</td>\n",
       "      <td>14M</td>\n",
       "      <td>500,000+</td>\n",
       "      <td>Free</td>\n",
       "      <td>0</td>\n",
       "      <td>Everyone</td>\n",
       "      <td>Art &amp; Design;Pretend Play</td>\n",
       "      <td>January 15, 2018</td>\n",
       "      <td>2.0.0</td>\n",
       "      <td>4.0.3 and up</td>\n",
       "    </tr>\n",
       "    <tr>\n",
       "      <th>2</th>\n",
       "      <td>U Launcher Lite – FREE Live Cool Themes, Hide ...</td>\n",
       "      <td>ART_AND_DESIGN</td>\n",
       "      <td>4.7</td>\n",
       "      <td>87510</td>\n",
       "      <td>8.7M</td>\n",
       "      <td>5,000,000+</td>\n",
       "      <td>Free</td>\n",
       "      <td>0</td>\n",
       "      <td>Everyone</td>\n",
       "      <td>Art &amp; Design</td>\n",
       "      <td>August 1, 2018</td>\n",
       "      <td>1.2.4</td>\n",
       "      <td>4.0.3 and up</td>\n",
       "    </tr>\n",
       "    <tr>\n",
       "      <th>3</th>\n",
       "      <td>Sketch - Draw &amp; Paint</td>\n",
       "      <td>ART_AND_DESIGN</td>\n",
       "      <td>4.5</td>\n",
       "      <td>215644</td>\n",
       "      <td>25M</td>\n",
       "      <td>50,000,000+</td>\n",
       "      <td>Free</td>\n",
       "      <td>0</td>\n",
       "      <td>Teen</td>\n",
       "      <td>Art &amp; Design</td>\n",
       "      <td>June 8, 2018</td>\n",
       "      <td>Varies with device</td>\n",
       "      <td>4.2 and up</td>\n",
       "    </tr>\n",
       "    <tr>\n",
       "      <th>4</th>\n",
       "      <td>Pixel Draw - Number Art Coloring Book</td>\n",
       "      <td>ART_AND_DESIGN</td>\n",
       "      <td>4.3</td>\n",
       "      <td>967</td>\n",
       "      <td>2.8M</td>\n",
       "      <td>100,000+</td>\n",
       "      <td>Free</td>\n",
       "      <td>0</td>\n",
       "      <td>Everyone</td>\n",
       "      <td>Art &amp; Design;Creativity</td>\n",
       "      <td>June 20, 2018</td>\n",
       "      <td>1.1</td>\n",
       "      <td>4.4 and up</td>\n",
       "    </tr>\n",
       "  </tbody>\n",
       "</table>\n",
       "</div>"
      ],
      "text/plain": [
       "                                                 App        Category  Rating  \\\n",
       "0     Photo Editor & Candy Camera & Grid & ScrapBook  ART_AND_DESIGN     4.1   \n",
       "1                                Coloring book moana  ART_AND_DESIGN     3.9   \n",
       "2  U Launcher Lite – FREE Live Cool Themes, Hide ...  ART_AND_DESIGN     4.7   \n",
       "3                              Sketch - Draw & Paint  ART_AND_DESIGN     4.5   \n",
       "4              Pixel Draw - Number Art Coloring Book  ART_AND_DESIGN     4.3   \n",
       "\n",
       "  Reviews  Size     Installs  Type Price Content Rating  \\\n",
       "0     159   19M      10,000+  Free     0       Everyone   \n",
       "1     967   14M     500,000+  Free     0       Everyone   \n",
       "2   87510  8.7M   5,000,000+  Free     0       Everyone   \n",
       "3  215644   25M  50,000,000+  Free     0           Teen   \n",
       "4     967  2.8M     100,000+  Free     0       Everyone   \n",
       "\n",
       "                      Genres      Last Updated         Current Ver  \\\n",
       "0               Art & Design   January 7, 2018               1.0.0   \n",
       "1  Art & Design;Pretend Play  January 15, 2018               2.0.0   \n",
       "2               Art & Design    August 1, 2018               1.2.4   \n",
       "3               Art & Design      June 8, 2018  Varies with device   \n",
       "4    Art & Design;Creativity     June 20, 2018                 1.1   \n",
       "\n",
       "    Android Ver  \n",
       "0  4.0.3 and up  \n",
       "1  4.0.3 and up  \n",
       "2  4.0.3 and up  \n",
       "3    4.2 and up  \n",
       "4    4.4 and up  "
      ]
     },
     "execution_count": 2,
     "metadata": {},
     "output_type": "execute_result"
    }
   ],
   "source": [
    "#Display the first rows in raw dataset and its dimensions for exploration. \n",
    "print(raw_google_play.shape)\n",
    "raw_google_play.head()"
   ]
  },
  {
   "cell_type": "markdown",
   "metadata": {},
   "source": [
    "    \n",
    "# Data Cleaning\n",
    "\n",
    "## Removing Non-English Apps\n",
    "\n",
    "Since our analysis towards to English-speaking audience and we don't want minimize data loss, We’re not interested in keeping apps with more than 3 chars which aren't used in ASCII standard.\n"
   ]
  },
  {
   "cell_type": "code",
   "execution_count": 3,
   "metadata": {},
   "outputs": [
    {
     "name": "stdout",
     "output_type": "stream",
     "text": [
      "There are 10796 english apps in our database\n"
     ]
    }
   ],
   "source": [
    "#Function that returns False if the string has more than 3 non-ASCII chars, otherwise returns True\n",
    "def is_english(string):\n",
    "    non_ascii = 0\n",
    "\n",
    "    for character in string:\n",
    "        if ord(character) > 127:\n",
    "            non_ascii += 1\n",
    "\n",
    "    if non_ascii > 3:\n",
    "        return False\n",
    "    else:\n",
    "        return True\n",
    "\n",
    "#Remove The Non-English Apps From Raw Data    \n",
    "raw_google_play=raw_google_play[raw_google_play['App'].apply(is_english)].copy()\n",
    "print(\"There are {0} english apps in our database\".format(len(raw_google_play)))"
   ]
  },
  {
   "cell_type": "markdown",
   "metadata": {},
   "source": [
    "## Removing Null Values\n",
    "We need to prepare our data for numeric analyzing, hence we should make some necessary steps for that.  \n",
    "Firstly, we will deal with the NULL values in our dataset rows and columns. "
   ]
  },
  {
   "cell_type": "code",
   "execution_count": 4,
   "metadata": {},
   "outputs": [
    {
     "data": {
      "text/plain": [
       "App                  0\n",
       "Category             0\n",
       "Rating            1459\n",
       "Reviews              0\n",
       "Size                 0\n",
       "Installs             0\n",
       "Type                 1\n",
       "Price                0\n",
       "Content Rating       1\n",
       "Genres               0\n",
       "Last Updated         0\n",
       "Current Ver          8\n",
       "Android Ver          3\n",
       "dtype: int64"
      ]
     },
     "execution_count": 4,
     "metadata": {},
     "output_type": "execute_result"
    }
   ],
   "source": [
    "#Count the null values for each column.\n",
    "raw_google_play.isnull().sum(axis = 0)"
   ]
  },
  {
   "cell_type": "markdown",
   "metadata": {},
   "source": [
    "The \"Rating\" column contains 1459 Nun values, which is about 14% of total number of rows.<br>\n",
    "Because it's relativly high percentage, we will replace the null values with column's average.<br>"
   ]
  },
  {
   "cell_type": "code",
   "execution_count": 5,
   "metadata": {},
   "outputs": [],
   "source": [
    "#Replace the null values in \"Rating\" column with its mean.\n",
    "import numpy as np\n",
    "processed_google_play=raw_google_play.copy()\n",
    "rating_mean=np.nanmean(processed_google_play[\"Rating\"])\n",
    "processed_google_play[\"Rating\"].fillna( rating_mean, inplace = True) "
   ]
  },
  {
   "cell_type": "code",
   "execution_count": 6,
   "metadata": {},
   "outputs": [
    {
     "data": {
      "text/html": [
       "<div>\n",
       "<style scoped>\n",
       "    .dataframe tbody tr th:only-of-type {\n",
       "        vertical-align: middle;\n",
       "    }\n",
       "\n",
       "    .dataframe tbody tr th {\n",
       "        vertical-align: top;\n",
       "    }\n",
       "\n",
       "    .dataframe thead th {\n",
       "        text-align: right;\n",
       "    }\n",
       "</style>\n",
       "<table border=\"1\" class=\"dataframe\">\n",
       "  <thead>\n",
       "    <tr style=\"text-align: right;\">\n",
       "      <th></th>\n",
       "      <th>App</th>\n",
       "      <th>Category</th>\n",
       "      <th>Rating</th>\n",
       "      <th>Reviews</th>\n",
       "      <th>Size</th>\n",
       "      <th>Installs</th>\n",
       "      <th>Type</th>\n",
       "      <th>Price</th>\n",
       "      <th>Content Rating</th>\n",
       "      <th>Genres</th>\n",
       "      <th>Last Updated</th>\n",
       "      <th>Current Ver</th>\n",
       "      <th>Android Ver</th>\n",
       "    </tr>\n",
       "  </thead>\n",
       "  <tbody>\n",
       "    <tr>\n",
       "      <th>15</th>\n",
       "      <td>Learn To Draw Kawaii Characters</td>\n",
       "      <td>ART_AND_DESIGN</td>\n",
       "      <td>3.200000</td>\n",
       "      <td>55</td>\n",
       "      <td>2.7M</td>\n",
       "      <td>5,000+</td>\n",
       "      <td>Free</td>\n",
       "      <td>0</td>\n",
       "      <td>Everyone</td>\n",
       "      <td>Art &amp; Design</td>\n",
       "      <td>June 6, 2018</td>\n",
       "      <td>NaN</td>\n",
       "      <td>4.2 and up</td>\n",
       "    </tr>\n",
       "    <tr>\n",
       "      <th>1553</th>\n",
       "      <td>Market Update Helper</td>\n",
       "      <td>LIBRARIES_AND_DEMO</td>\n",
       "      <td>4.100000</td>\n",
       "      <td>20145</td>\n",
       "      <td>11k</td>\n",
       "      <td>1,000,000+</td>\n",
       "      <td>Free</td>\n",
       "      <td>0</td>\n",
       "      <td>Everyone</td>\n",
       "      <td>Libraries &amp; Demo</td>\n",
       "      <td>February 12, 2013</td>\n",
       "      <td>NaN</td>\n",
       "      <td>1.5 and up</td>\n",
       "    </tr>\n",
       "    <tr>\n",
       "      <th>4453</th>\n",
       "      <td>[substratum] Vacuum: P</td>\n",
       "      <td>PERSONALIZATION</td>\n",
       "      <td>4.400000</td>\n",
       "      <td>230</td>\n",
       "      <td>11M</td>\n",
       "      <td>1,000+</td>\n",
       "      <td>Paid</td>\n",
       "      <td>$1.49</td>\n",
       "      <td>Everyone</td>\n",
       "      <td>Personalization</td>\n",
       "      <td>July 20, 2018</td>\n",
       "      <td>4.4</td>\n",
       "      <td>NaN</td>\n",
       "    </tr>\n",
       "    <tr>\n",
       "      <th>4490</th>\n",
       "      <td>Pi Dark [substratum]</td>\n",
       "      <td>PERSONALIZATION</td>\n",
       "      <td>4.500000</td>\n",
       "      <td>189</td>\n",
       "      <td>2.1M</td>\n",
       "      <td>10,000+</td>\n",
       "      <td>Free</td>\n",
       "      <td>0</td>\n",
       "      <td>Everyone</td>\n",
       "      <td>Personalization</td>\n",
       "      <td>March 27, 2018</td>\n",
       "      <td>1.1</td>\n",
       "      <td>NaN</td>\n",
       "    </tr>\n",
       "    <tr>\n",
       "      <th>6322</th>\n",
       "      <td>Virtual DJ Sound Mixer</td>\n",
       "      <td>TOOLS</td>\n",
       "      <td>4.200000</td>\n",
       "      <td>4010</td>\n",
       "      <td>8.7M</td>\n",
       "      <td>500,000+</td>\n",
       "      <td>Free</td>\n",
       "      <td>0</td>\n",
       "      <td>Everyone</td>\n",
       "      <td>Tools</td>\n",
       "      <td>May 10, 2017</td>\n",
       "      <td>NaN</td>\n",
       "      <td>4.0 and up</td>\n",
       "    </tr>\n",
       "    <tr>\n",
       "      <th>6803</th>\n",
       "      <td>BT Master</td>\n",
       "      <td>FAMILY</td>\n",
       "      <td>4.193124</td>\n",
       "      <td>0</td>\n",
       "      <td>222k</td>\n",
       "      <td>100+</td>\n",
       "      <td>Free</td>\n",
       "      <td>0</td>\n",
       "      <td>Everyone</td>\n",
       "      <td>Education</td>\n",
       "      <td>November 6, 2016</td>\n",
       "      <td>NaN</td>\n",
       "      <td>1.6 and up</td>\n",
       "    </tr>\n",
       "    <tr>\n",
       "      <th>7333</th>\n",
       "      <td>Dots puzzle</td>\n",
       "      <td>FAMILY</td>\n",
       "      <td>4.000000</td>\n",
       "      <td>179</td>\n",
       "      <td>14M</td>\n",
       "      <td>50,000+</td>\n",
       "      <td>Paid</td>\n",
       "      <td>$0.99</td>\n",
       "      <td>Everyone</td>\n",
       "      <td>Puzzle</td>\n",
       "      <td>April 18, 2018</td>\n",
       "      <td>NaN</td>\n",
       "      <td>4.0 and up</td>\n",
       "    </tr>\n",
       "    <tr>\n",
       "      <th>7407</th>\n",
       "      <td>Calculate My IQ</td>\n",
       "      <td>FAMILY</td>\n",
       "      <td>4.193124</td>\n",
       "      <td>44</td>\n",
       "      <td>7.2M</td>\n",
       "      <td>10,000+</td>\n",
       "      <td>Free</td>\n",
       "      <td>0</td>\n",
       "      <td>Everyone</td>\n",
       "      <td>Entertainment</td>\n",
       "      <td>April 3, 2017</td>\n",
       "      <td>NaN</td>\n",
       "      <td>2.3 and up</td>\n",
       "    </tr>\n",
       "    <tr>\n",
       "      <th>7730</th>\n",
       "      <td>UFO-CQ</td>\n",
       "      <td>TOOLS</td>\n",
       "      <td>4.193124</td>\n",
       "      <td>1</td>\n",
       "      <td>237k</td>\n",
       "      <td>10+</td>\n",
       "      <td>Paid</td>\n",
       "      <td>$0.99</td>\n",
       "      <td>Everyone</td>\n",
       "      <td>Tools</td>\n",
       "      <td>July 4, 2016</td>\n",
       "      <td>NaN</td>\n",
       "      <td>2.0 and up</td>\n",
       "    </tr>\n",
       "    <tr>\n",
       "      <th>9148</th>\n",
       "      <td>Command &amp; Conquer: Rivals</td>\n",
       "      <td>FAMILY</td>\n",
       "      <td>4.193124</td>\n",
       "      <td>0</td>\n",
       "      <td>Varies with device</td>\n",
       "      <td>0</td>\n",
       "      <td>NaN</td>\n",
       "      <td>0</td>\n",
       "      <td>Everyone 10+</td>\n",
       "      <td>Strategy</td>\n",
       "      <td>June 28, 2018</td>\n",
       "      <td>Varies with device</td>\n",
       "      <td>Varies with device</td>\n",
       "    </tr>\n",
       "    <tr>\n",
       "      <th>10342</th>\n",
       "      <td>La Fe de Jesus</td>\n",
       "      <td>BOOKS_AND_REFERENCE</td>\n",
       "      <td>4.193124</td>\n",
       "      <td>8</td>\n",
       "      <td>658k</td>\n",
       "      <td>1,000+</td>\n",
       "      <td>Free</td>\n",
       "      <td>0</td>\n",
       "      <td>Everyone</td>\n",
       "      <td>Books &amp; Reference</td>\n",
       "      <td>January 31, 2017</td>\n",
       "      <td>NaN</td>\n",
       "      <td>3.0 and up</td>\n",
       "    </tr>\n",
       "    <tr>\n",
       "      <th>10472</th>\n",
       "      <td>Life Made WI-Fi Touchscreen Photo Frame</td>\n",
       "      <td>1.9</td>\n",
       "      <td>19.000000</td>\n",
       "      <td>3.0M</td>\n",
       "      <td>1,000+</td>\n",
       "      <td>Free</td>\n",
       "      <td>0</td>\n",
       "      <td>Everyone</td>\n",
       "      <td>NaN</td>\n",
       "      <td>February 11, 2018</td>\n",
       "      <td>1.0.19</td>\n",
       "      <td>4.0 and up</td>\n",
       "      <td>NaN</td>\n",
       "    </tr>\n",
       "  </tbody>\n",
       "</table>\n",
       "</div>"
      ],
      "text/plain": [
       "                                           App             Category  \\\n",
       "15             Learn To Draw Kawaii Characters       ART_AND_DESIGN   \n",
       "1553                      Market Update Helper   LIBRARIES_AND_DEMO   \n",
       "4453                    [substratum] Vacuum: P      PERSONALIZATION   \n",
       "4490                      Pi Dark [substratum]      PERSONALIZATION   \n",
       "6322                    Virtual DJ Sound Mixer                TOOLS   \n",
       "6803                                 BT Master               FAMILY   \n",
       "7333                               Dots puzzle               FAMILY   \n",
       "7407                           Calculate My IQ               FAMILY   \n",
       "7730                                    UFO-CQ                TOOLS   \n",
       "9148                 Command & Conquer: Rivals               FAMILY   \n",
       "10342                           La Fe de Jesus  BOOKS_AND_REFERENCE   \n",
       "10472  Life Made WI-Fi Touchscreen Photo Frame                  1.9   \n",
       "\n",
       "          Rating Reviews                Size    Installs  Type     Price  \\\n",
       "15      3.200000      55                2.7M      5,000+  Free         0   \n",
       "1553    4.100000   20145                 11k  1,000,000+  Free         0   \n",
       "4453    4.400000     230                 11M      1,000+  Paid     $1.49   \n",
       "4490    4.500000     189                2.1M     10,000+  Free         0   \n",
       "6322    4.200000    4010                8.7M    500,000+  Free         0   \n",
       "6803    4.193124       0                222k        100+  Free         0   \n",
       "7333    4.000000     179                 14M     50,000+  Paid     $0.99   \n",
       "7407    4.193124      44                7.2M     10,000+  Free         0   \n",
       "7730    4.193124       1                237k         10+  Paid     $0.99   \n",
       "9148    4.193124       0  Varies with device           0   NaN         0   \n",
       "10342   4.193124       8                658k      1,000+  Free         0   \n",
       "10472  19.000000    3.0M              1,000+        Free     0  Everyone   \n",
       "\n",
       "      Content Rating             Genres       Last Updated  \\\n",
       "15          Everyone       Art & Design       June 6, 2018   \n",
       "1553        Everyone   Libraries & Demo  February 12, 2013   \n",
       "4453        Everyone    Personalization      July 20, 2018   \n",
       "4490        Everyone    Personalization     March 27, 2018   \n",
       "6322        Everyone              Tools       May 10, 2017   \n",
       "6803        Everyone          Education   November 6, 2016   \n",
       "7333        Everyone             Puzzle     April 18, 2018   \n",
       "7407        Everyone      Entertainment      April 3, 2017   \n",
       "7730        Everyone              Tools       July 4, 2016   \n",
       "9148    Everyone 10+           Strategy      June 28, 2018   \n",
       "10342       Everyone  Books & Reference   January 31, 2017   \n",
       "10472            NaN  February 11, 2018             1.0.19   \n",
       "\n",
       "              Current Ver         Android Ver  \n",
       "15                    NaN          4.2 and up  \n",
       "1553                  NaN          1.5 and up  \n",
       "4453                  4.4                 NaN  \n",
       "4490                  1.1                 NaN  \n",
       "6322                  NaN          4.0 and up  \n",
       "6803                  NaN          1.6 and up  \n",
       "7333                  NaN          4.0 and up  \n",
       "7407                  NaN          2.3 and up  \n",
       "7730                  NaN          2.0 and up  \n",
       "9148   Varies with device  Varies with device  \n",
       "10342                 NaN          3.0 and up  \n",
       "10472          4.0 and up                 NaN  "
      ]
     },
     "execution_count": 6,
     "metadata": {},
     "output_type": "execute_result"
    }
   ],
   "source": [
    "#Present the apps including missing values.\n",
    "missing_values=processed_google_play[processed_google_play['Type'].isnull() | processed_google_play['Content Rating'].isnull() | processed_google_play['Current Ver'].isnull() | processed_google_play['Android Ver'].isnull()]\n",
    "missing_values"
   ]
  },
  {
   "cell_type": "markdown",
   "metadata": {},
   "source": [
    "There are 12 apps with missing values, including apps with 0 installs (such as: Command & Conquer: Rivals).\n",
    "Before deleting those rows, we need to make sure that the installs' volume of those apps is relatively neglectable. "
   ]
  },
  {
   "cell_type": "code",
   "execution_count": 7,
   "metadata": {},
   "outputs": [
    {
     "data": {
      "text/plain": [
       "0             1\n",
       "1,000+        2\n",
       "1,000,000+    1\n",
       "10+           1\n",
       "10,000+       2\n",
       "100+          1\n",
       "5,000+        1\n",
       "50,000+       1\n",
       "500,000+      1\n",
       "Free          1\n",
       "Name: Installs, dtype: int64"
      ]
     },
     "execution_count": 7,
     "metadata": {},
     "output_type": "execute_result"
    }
   ],
   "source": [
    "#Distribution of installs for rows with null values.\n",
    "missing_values['Installs'].value_counts().sort_index()"
   ]
  },
  {
   "cell_type": "code",
   "execution_count": 8,
   "metadata": {},
   "outputs": [
    {
     "data": {
      "text/plain": [
       "0                    1\n",
       "0+                  13\n",
       "1+                  66\n",
       "1,000+             900\n",
       "1,000,000+        1576\n",
       "1,000,000,000+      58\n",
       "10+                385\n",
       "10,000+           1045\n",
       "10,000,000+       1252\n",
       "100+               714\n",
       "100,000+          1162\n",
       "100,000,000+       409\n",
       "5+                  82\n",
       "5,000+             474\n",
       "5,000,000+         750\n",
       "50+                205\n",
       "50,000+            473\n",
       "50,000,000+        289\n",
       "500+               330\n",
       "500,000+           539\n",
       "500,000,000+        72\n",
       "Free                 1\n",
       "Name: Installs, dtype: int64"
      ]
     },
     "execution_count": 8,
     "metadata": {},
     "output_type": "execute_result"
    }
   ],
   "source": [
    "#Distribution of installs for all rows in dataset.\n",
    "processed_google_play['Installs'].value_counts().sort_index()"
   ]
  },
  {
   "cell_type": "markdown",
   "metadata": {},
   "source": [
    "The apps with missing values have 2M installs, whereas all apps have above 58B installs.\n",
    "Hence, we can remove those rows."
   ]
  },
  {
   "cell_type": "code",
   "execution_count": 9,
   "metadata": {
    "scrolled": true
   },
   "outputs": [],
   "source": [
    "#Removing rows with null values\n",
    "processed_google_play=processed_google_play.drop(index=missing_values.index)"
   ]
  },
  {
   "cell_type": "markdown",
   "metadata": {},
   "source": [
    "## Removing Redundant Chars from Columns\n",
    "\n",
    "Since we want to work with numeric values, we shall remove some chars from specific columns and then convert their values to numeric.<br>\n",
    "This action will help us to calculate statistic measures for those columns like average or median."
   ]
  },
  {
   "cell_type": "markdown",
   "metadata": {},
   "source": [
    "### Processing The \"Size\" Column\n",
    "We can see that the values in this column are shown in kilobypes or megabytes alternatively.<br>\n",
    "Since we want to show this field as one-scaled unit, we will convert its values to megabytes. <br>\n",
    "Each value has an additional letter :\"M\" represents 1 megabyte and \"k\" represents 1 kilobyte.<br>\n",
    "Let's create additional column \"Size(MB)\" and fill it as followed:<br>\n",
    "If the number in \"Size\" column has \"M\", we will add this value as is to the corresponded \"Size(MB)\" value.<br>\n",
    "If the number in \"Size\" column has \"k\", we will divide this number by 1000 and assign the result to the corresponded \"Size(MB)\" value.<br>\n",
    "Otherwise we will assign np.nan as its value.<br>\n",
    "If the last letter \"e\" in \"Size\" Column, it means that the size varies with device.<br>\n",
    "Finally, we will drop the old column \"Size\" because we don't need it anymore.<br>"
   ]
  },
  {
   "cell_type": "code",
   "execution_count": 10,
   "metadata": {},
   "outputs": [],
   "source": [
    "#Create new column that shows the size of apps in MB units as followed:\n",
    "# 1. Nun value if the apps' size varies with device.\n",
    "# 2. The size remained the same if the apps' size is measured in MB (last letter is \"M\")\n",
    "# 3. The size is divided by 1000 if the apps' size is measured in kilobytes (last letter is \"k\")\n",
    "size_last_letter=processed_google_play['Size'].astype(str).str[-1]\n",
    "processed_google_play.loc[size_last_letter=='k','Size(MB)']=processed_google_play.loc[size_last_letter=='k','Size'].astype(str).str[:-1].astype(float)*1/1000\n",
    "processed_google_play.loc[size_last_letter=='M','Size(MB)']=processed_google_play.loc[size_last_letter=='M','Size'].astype(str).str[:-1].astype(float)\n",
    "processed_google_play.loc[size_last_letter=='e','Size(MB)']=np.nan"
   ]
  },
  {
   "cell_type": "code",
   "execution_count": 11,
   "metadata": {},
   "outputs": [],
   "source": [
    "#Drop the old \"Size\" column\n",
    "processed_google_play=processed_google_play.drop(columns=['Size'])"
   ]
  },
  {
   "cell_type": "code",
   "execution_count": 12,
   "metadata": {},
   "outputs": [
    {
     "name": "stdout",
     "output_type": "stream",
     "text": [
      "There are 1692 apps (15.7%) that vary with device out of 10784\n"
     ]
    }
   ],
   "source": [
    "#Calculate number of apps that vary with device\n",
    "vary_with_device_apps=len(processed_google_play.loc[size_last_letter=='e','Size(MB)'])\n",
    "total_apps=len(processed_google_play)\n",
    "print(\"There are {0} apps ({1:.1f}%) that vary with device out of {2}\".format(vary_with_device_apps,(vary_with_device_apps/total_apps)*100,total_apps))"
   ]
  },
  {
   "cell_type": "markdown",
   "metadata": {},
   "source": [
    "Almost 16% of apps vary with device and are showed as nun values.\n",
    "To solve this, we will replace all nun values in this column with the mean of sizes."
   ]
  },
  {
   "cell_type": "code",
   "execution_count": 13,
   "metadata": {},
   "outputs": [],
   "source": [
    "#Calculate and assign the mean of Size's column where value is \"varies with device\"\n",
    "size_mean=np.nanmean(processed_google_play[\"Size(MB)\"].astype(float))\n",
    "processed_google_play.loc[size_last_letter=='e','Size(MB)']=size_mean"
   ]
  },
  {
   "cell_type": "markdown",
   "metadata": {},
   "source": [
    "### Processing The \"Installs\" Column\n",
    "\n",
    "We can see that we have '+' char at the end of each string and all numbers are presented with commas.<br>\n",
    "Since we don't know the upper bound of the installs per value, we will consider the lower bound, i.e. the number before the \"+\" char.<br>\n",
    "Let's remove pluses and commas from all values in this column, and convert them to int."
   ]
  },
  {
   "cell_type": "code",
   "execution_count": 14,
   "metadata": {},
   "outputs": [],
   "source": [
    "#Omit pluses and commas from values in \"Installs\" column and convert them to int.\n",
    "processed_google_play['Installs']=processed_google_play['Installs'].str.replace(',','').str[:-1].astype(int)"
   ]
  },
  {
   "cell_type": "markdown",
   "metadata": {},
   "source": [
    "### Processing The \"Price\" Column\n",
    "\n",
    "Likewise column \"Installs\", we omit the \"$\" char from \"Price\" column and covert its values to float."
   ]
  },
  {
   "cell_type": "code",
   "execution_count": 15,
   "metadata": {},
   "outputs": [],
   "source": [
    "#Omit the \"$\" char from \"Price\" column and convert it to float.\n",
    "processed_google_play['Price']=processed_google_play['Price'].str.replace('$','').astype(float)"
   ]
  },
  {
   "cell_type": "markdown",
   "metadata": {},
   "source": [
    "### Processing The \"Content Rating\" Column\n",
    "Let's have a look at \"Content Rating\" columns."
   ]
  },
  {
   "cell_type": "code",
   "execution_count": 16,
   "metadata": {},
   "outputs": [
    {
     "data": {
      "text/plain": [
       "Everyone           80.387611\n",
       "Teen               11.155415\n",
       "Mature 17+          4.590134\n",
       "Everyone 10+        3.820475\n",
       "Adults only 18+     0.027819\n",
       "Unrated             0.018546\n",
       "Name: Content Rating, dtype: float64"
      ]
     },
     "execution_count": 16,
     "metadata": {},
     "output_type": "execute_result"
    }
   ],
   "source": [
    "#Distribution table for \"Content Rating\" column.\n",
    "processed_google_play['Content Rating'].value_counts(normalize=True)*100"
   ]
  },
  {
   "cell_type": "markdown",
   "metadata": {},
   "source": [
    "Around 80% of all applications are aimed to Everyone. <br>\n",
    "It means that we don't have further information about specific audiences. <br> \n",
    "Hence, We shall drop this column."
   ]
  },
  {
   "cell_type": "code",
   "execution_count": 17,
   "metadata": {},
   "outputs": [],
   "source": [
    "#Drop \"Content Rating\" column.\n",
    "processed_google_play=processed_google_play.drop(columns=['Content Rating']).copy()"
   ]
  },
  {
   "cell_type": "markdown",
   "metadata": {},
   "source": [
    "### Examining The \"Category\" And \"Genres\" Columns\n",
    "\n",
    "At first glance, it seems that \"Category\" and \"Genres\" column should include the same information.<br> \n",
    "Let's look in detail at both."
   ]
  },
  {
   "cell_type": "code",
   "execution_count": 18,
   "metadata": {},
   "outputs": [
    {
     "data": {
      "text/plain": [
       "ART_AND_DESIGN           63\n",
       "AUTO_AND_VEHICLES        84\n",
       "BEAUTY                   53\n",
       "BOOKS_AND_REFERENCE     226\n",
       "BUSINESS                459\n",
       "COMICS                   59\n",
       "COMMUNICATION           386\n",
       "DATING                  234\n",
       "EDUCATION               155\n",
       "ENTERTAINMENT           149\n",
       "EVENTS                   64\n",
       "FAMILY                 1952\n",
       "FINANCE                 366\n",
       "FOOD_AND_DRINK          127\n",
       "GAME                   1142\n",
       "HEALTH_AND_FITNESS      341\n",
       "HOUSE_AND_HOME           88\n",
       "LIBRARIES_AND_DEMO       84\n",
       "LIFESTYLE               377\n",
       "MAPS_AND_NAVIGATION     135\n",
       "MEDICAL                 463\n",
       "NEWS_AND_MAGAZINES      279\n",
       "PARENTING                60\n",
       "PERSONALIZATION         389\n",
       "PHOTOGRAPHY             334\n",
       "PRODUCTIVITY            423\n",
       "SHOPPING                259\n",
       "SOCIAL                  295\n",
       "SPORTS                  384\n",
       "TOOLS                   840\n",
       "TRAVEL_AND_LOCAL        258\n",
       "VIDEO_PLAYERS           174\n",
       "WEATHER                  82\n",
       "Name: Category, dtype: int64"
      ]
     },
     "execution_count": 18,
     "metadata": {},
     "output_type": "execute_result"
    }
   ],
   "source": [
    "#Frequency table for \"Category\" values\n",
    "processed_google_play['Category'].value_counts().sort_index()"
   ]
  },
  {
   "cell_type": "code",
   "execution_count": 19,
   "metadata": {
    "scrolled": true
   },
   "outputs": [
    {
     "data": {
      "text/plain": [
       "Action                                   365\n",
       "Action;Action & Adventure                 17\n",
       "Adventure                                 74\n",
       "Adventure;Action & Adventure              13\n",
       "Adventure;Brain Games                      1\n",
       "Adventure;Education                        2\n",
       "Arcade                                   220\n",
       "Arcade;Action & Adventure                 16\n",
       "Arcade;Pretend Play                        1\n",
       "Art & Design                              56\n",
       "Art & Design;Action & Adventure            2\n",
       "Art & Design;Creativity                    7\n",
       "Art & Design;Pretend Play                  2\n",
       "Auto & Vehicles                           84\n",
       "Beauty                                    53\n",
       "Board                                     44\n",
       "Board;Action & Adventure                   3\n",
       "Board;Brain Games                         15\n",
       "Board;Pretend Play                         1\n",
       "Books & Reference                        226\n",
       "Books & Reference;Creativity               1\n",
       "Books & Reference;Education                2\n",
       "Business                                 459\n",
       "Card                                      48\n",
       "Card;Action & Adventure                    2\n",
       "Card;Brain Games                           1\n",
       "Casino                                    39\n",
       "Casual                                   193\n",
       "Casual;Action & Adventure                 21\n",
       "Casual;Brain Games                        13\n",
       "                                        ... \n",
       "Racing;Action & Adventure                 20\n",
       "Racing;Pretend Play                        1\n",
       "Role Playing                             108\n",
       "Role Playing;Action & Adventure            7\n",
       "Role Playing;Brain Games                   1\n",
       "Role Playing;Education                     1\n",
       "Role Playing;Pretend Play                  5\n",
       "Shopping                                 259\n",
       "Simulation                               197\n",
       "Simulation;Action & Adventure             11\n",
       "Simulation;Education                       3\n",
       "Simulation;Pretend Play                    4\n",
       "Social                                   295\n",
       "Sports                                   398\n",
       "Sports;Action & Adventure                  4\n",
       "Strategy                                 105\n",
       "Strategy;Action & Adventure                2\n",
       "Strategy;Creativity                        1\n",
       "Strategy;Education                         1\n",
       "Tools                                    839\n",
       "Tools;Education                            1\n",
       "Travel & Local                           257\n",
       "Travel & Local;Action & Adventure          1\n",
       "Trivia                                    37\n",
       "Trivia;Education                           1\n",
       "Video Players & Editors                  172\n",
       "Video Players & Editors;Creativity         2\n",
       "Video Players & Editors;Music & Video      3\n",
       "Weather                                   82\n",
       "Word                                      29\n",
       "Name: Genres, Length: 119, dtype: int64"
      ]
     },
     "execution_count": 19,
     "metadata": {},
     "output_type": "execute_result"
    }
   ],
   "source": [
    "#Frequency table for \"Category\" values\n",
    "processed_google_play['Genres'].value_counts().sort_index()"
   ]
  },
  {
   "cell_type": "markdown",
   "metadata": {},
   "source": [
    "In general, We can see that the categories and genres neither don't have the same values nor formats.<br>\n",
    "The categories are uppercased and words are sapareted by underscores.<br>\n",
    "On the other hand, genres are capitalized and words are sapareted by whitesapces and the tab \"&\" replaces the word \"and\".<br>\n",
    "Hence, We should bring genres to be as same format as categories.<br>\n",
    "\n",
    "Also,Some applications have more than one genre, while a genre is saparated from the other by \";\".\n",
    "We should check how many apps have more than one category."
   ]
  },
  {
   "cell_type": "code",
   "execution_count": 20,
   "metadata": {},
   "outputs": [],
   "source": [
    "#Create new column \"Genres_Updated\" that includes the values of \"Genres\" columns , having the same format as \"Categories\".\n",
    "processed_google_play['Genres_Updated']=processed_google_play['Genres'].str.upper().str.replace(\"&\",\"AND\").str.replace(\" \",\"_\")"
   ]
  },
  {
   "cell_type": "code",
   "execution_count": 21,
   "metadata": {},
   "outputs": [
    {
     "data": {
      "text/plain": [
       "True     69.093101\n",
       "False    30.906899\n",
       "dtype: float64"
      ]
     },
     "execution_count": 21,
     "metadata": {},
     "output_type": "execute_result"
    }
   ],
   "source": [
    "#Use frequency table to check whether the category and genre od each app are identical or not. \n",
    "genre_category_comparison=(processed_google_play['Genres_Updated']==processed_google_play['Category'])\n",
    "genre_category_comparison.value_counts(normalize=True)*100"
   ]
  },
  {
   "cell_type": "markdown",
   "metadata": {},
   "source": [
    "Around 70% of the apps have same values of categories and genres. <br>\n",
    "Let's explore the apps that those values are different."
   ]
  },
  {
   "cell_type": "code",
   "execution_count": 22,
   "metadata": {},
   "outputs": [
    {
     "data": {
      "text/plain": [
       "ART_AND_DESIGN         7\n",
       "COMICS                 1\n",
       "EDUCATION             27\n",
       "ENTERTAINMENT         13\n",
       "FAMILY              1952\n",
       "GAME                1142\n",
       "LIFESTYLE              1\n",
       "PARENTING             14\n",
       "TOOLS                  1\n",
       "TRAVEL_AND_LOCAL       1\n",
       "VIDEO_PLAYERS        174\n",
       "Name: Category, dtype: int64"
      ]
     },
     "execution_count": 22,
     "metadata": {},
     "output_type": "execute_result"
    }
   ],
   "source": [
    "#Frequency table of categories that don't have the same genres. \n",
    "processed_google_play[genre_category_comparison==False]['Category'].value_counts().sort_index()"
   ]
  },
  {
   "cell_type": "code",
   "execution_count": 23,
   "metadata": {},
   "outputs": [
    {
     "data": {
      "text/plain": [
       "ACTION                                       365\n",
       "ACTION;ACTION_AND_ADVENTURE                   17\n",
       "ADVENTURE                                     74\n",
       "ADVENTURE;ACTION_AND_ADVENTURE                13\n",
       "ADVENTURE;BRAIN_GAMES                          1\n",
       "ADVENTURE;EDUCATION                            2\n",
       "ARCADE                                       220\n",
       "ARCADE;ACTION_AND_ADVENTURE                   16\n",
       "ARCADE;PRETEND_PLAY                            1\n",
       "ART_AND_DESIGN;ACTION_AND_ADVENTURE            2\n",
       "ART_AND_DESIGN;CREATIVITY                      7\n",
       "ART_AND_DESIGN;PRETEND_PLAY                    2\n",
       "BOARD                                         44\n",
       "BOARD;ACTION_AND_ADVENTURE                     3\n",
       "BOARD;BRAIN_GAMES                             15\n",
       "BOARD;PRETEND_PLAY                             1\n",
       "BOOKS_AND_REFERENCE;CREATIVITY                 1\n",
       "BOOKS_AND_REFERENCE;EDUCATION                  2\n",
       "CARD                                          48\n",
       "CARD;ACTION_AND_ADVENTURE                      2\n",
       "CARD;BRAIN_GAMES                               1\n",
       "CASINO                                        39\n",
       "CASUAL                                       193\n",
       "CASUAL;ACTION_AND_ADVENTURE                   21\n",
       "CASUAL;BRAIN_GAMES                            13\n",
       "CASUAL;CREATIVITY                              7\n",
       "CASUAL;EDUCATION                               3\n",
       "CASUAL;MUSIC_AND_VIDEO                         2\n",
       "CASUAL;PRETEND_PLAY                           31\n",
       "COMICS;CREATIVITY                              1\n",
       "                                            ... \n",
       "PUZZLE;ACTION_AND_ADVENTURE                    5\n",
       "PUZZLE;BRAIN_GAMES                            19\n",
       "PUZZLE;CREATIVITY                              2\n",
       "PUZZLE;EDUCATION                               1\n",
       "RACING                                        98\n",
       "RACING;ACTION_AND_ADVENTURE                   20\n",
       "RACING;PRETEND_PLAY                            1\n",
       "ROLE_PLAYING                                 108\n",
       "ROLE_PLAYING;ACTION_AND_ADVENTURE              7\n",
       "ROLE_PLAYING;BRAIN_GAMES                       1\n",
       "ROLE_PLAYING;EDUCATION                         1\n",
       "ROLE_PLAYING;PRETEND_PLAY                      5\n",
       "SIMULATION                                   197\n",
       "SIMULATION;ACTION_AND_ADVENTURE               11\n",
       "SIMULATION;EDUCATION                           3\n",
       "SIMULATION;PRETEND_PLAY                        4\n",
       "SPORTS                                        14\n",
       "SPORTS;ACTION_AND_ADVENTURE                    4\n",
       "STRATEGY                                     105\n",
       "STRATEGY;ACTION_AND_ADVENTURE                  2\n",
       "STRATEGY;CREATIVITY                            1\n",
       "STRATEGY;EDUCATION                             1\n",
       "TOOLS;EDUCATION                                1\n",
       "TRAVEL_AND_LOCAL;ACTION_AND_ADVENTURE          1\n",
       "TRIVIA                                        37\n",
       "TRIVIA;EDUCATION                               1\n",
       "VIDEO_PLAYERS_AND_EDITORS                    172\n",
       "VIDEO_PLAYERS_AND_EDITORS;CREATIVITY           2\n",
       "VIDEO_PLAYERS_AND_EDITORS;MUSIC_AND_VIDEO      3\n",
       "WORD                                          29\n",
       "Name: Genres_Updated, Length: 92, dtype: int64"
      ]
     },
     "execution_count": 23,
     "metadata": {},
     "output_type": "execute_result"
    }
   ],
   "source": [
    "#Frequency table of genres that don't have the same categories. \n",
    "processed_google_play[genre_category_comparison==False]['Genres_Updated'].value_counts().sort_index()"
   ]
  },
  {
   "cell_type": "markdown",
   "metadata": {},
   "source": [
    "There are two important points we should notice about:<br>\n",
    "\n",
    "1. There are some apps that have more than one genre.\n",
    "2. The categories \"GAME\" and \"FAMILY\" don't have corresponding values in \"Genres\", and equal to 3,094 of 3,333 apps (93%).\n",
    "   Since both are top-largest categories based on the freaquency table above, we can guess that they used to include      some genre under their general title.    \n",
    "\n",
    "We should check how many apps have more than one genre and handle them."
   ]
  },
  {
   "cell_type": "code",
   "execution_count": 24,
   "metadata": {},
   "outputs": [
    {
     "data": {
      "text/plain": [
       "0    10287\n",
       "1      497\n",
       "Name: Genres_Updated, dtype: int64"
      ]
     },
     "execution_count": 24,
     "metadata": {},
     "output_type": "execute_result"
    }
   ],
   "source": [
    "#Count how many applications have more than one genre.\n",
    "num_genres=processed_google_play['Genres_Updated'].str.count(';')\n",
    "num_genres.value_counts()"
   ]
  },
  {
   "cell_type": "markdown",
   "metadata": {},
   "source": [
    "We see that 497 apps having more than one category (about 5% of total apps).<br> \n",
    "Since it's low amount of records, we will treat the first genre for those apps as the correct one."
   ]
  },
  {
   "cell_type": "code",
   "execution_count": 25,
   "metadata": {},
   "outputs": [],
   "source": [
    "#Create new column including the first genre of each app.\n",
    "def first_item(element):\n",
    "        return element[0]\n",
    "processed_google_play['Final_Genre']=processed_google_play['Genres_Updated'].str.split(';').apply(first_item).astype(str)"
   ]
  },
  {
   "cell_type": "code",
   "execution_count": 26,
   "metadata": {},
   "outputs": [],
   "source": [
    "#Drop \"Genres_Updated\" and \"Genres\" columns, because we don't need them anymore.\n",
    "processed_google_play=processed_google_play.drop(columns=[\"Genres_Updated\",\"Genres\"]).copy()"
   ]
  },
  {
   "cell_type": "markdown",
   "metadata": {},
   "source": [
    "Previously, we saw that \"FAMILY\" and \"GAME\" are probabaly general titles used to include some genres.\n",
    "Let's verify this assumption."
   ]
  },
  {
   "cell_type": "code",
   "execution_count": 27,
   "metadata": {},
   "outputs": [
    {
     "data": {
      "text/plain": [
       "ENTERTAINMENT                513\n",
       "EDUCATION                    481\n",
       "CASUAL                       221\n",
       "SIMULATION                   202\n",
       "PUZZLE                       124\n",
       "EDUCATIONAL                  112\n",
       "ROLE_PLAYING                 106\n",
       "STRATEGY                      85\n",
       "RACING                        21\n",
       "BOARD                         19\n",
       "ARCADE                        17\n",
       "ACTION                        14\n",
       "ADVENTURE                     11\n",
       "ART_AND_DESIGN                 4\n",
       "SPORTS                         4\n",
       "BOOKS_AND_REFERENCE            3\n",
       "CARD                           3\n",
       "MUSIC                          3\n",
       "VIDEO_PLAYERS_AND_EDITORS      3\n",
       "HEALTH_AND_FITNESS             2\n",
       "LIFESTYLE                      1\n",
       "TRIVIA                         1\n",
       "COMMUNICATION                  1\n",
       "MUSIC_AND_AUDIO                1\n",
       "Name: Final_Genre, dtype: int64"
      ]
     },
     "execution_count": 27,
     "metadata": {},
     "output_type": "execute_result"
    }
   ],
   "source": [
    "#Frequancy table for genres of apps were classified for family.\n",
    "processed_google_play[processed_google_play['Category']=='FAMILY']['Final_Genre'].value_counts()"
   ]
  },
  {
   "cell_type": "code",
   "execution_count": 28,
   "metadata": {},
   "outputs": [
    {
     "data": {
      "text/plain": [
       "ACTION          368\n",
       "ARCADE          220\n",
       "RACING           98\n",
       "ADVENTURE        79\n",
       "CASUAL           49\n",
       "CARD             48\n",
       "BOARD            44\n",
       "PUZZLE           42\n",
       "CASINO           39\n",
       "TRIVIA           37\n",
       "WORD             29\n",
       "STRATEGY         24\n",
       "MUSIC            22\n",
       "ROLE_PLAYING     16\n",
       "SPORTS           14\n",
       "SIMULATION       13\n",
       "Name: Final_Genre, dtype: int64"
      ]
     },
     "execution_count": 28,
     "metadata": {},
     "output_type": "execute_result"
    }
   ],
   "source": [
    "#Frequancy table for genres of apps were classified as games.\n",
    "processed_google_play[processed_google_play['Category']=='GAME']['Final_Genre'].value_counts()"
   ]
  },
  {
   "cell_type": "code",
   "execution_count": 29,
   "metadata": {},
   "outputs": [
    {
     "data": {
      "text/plain": [
       "count     10784\n",
       "unique       48\n",
       "top       TOOLS\n",
       "freq        840\n",
       "Name: Final_Genre, dtype: object"
      ]
     },
     "execution_count": 29,
     "metadata": {},
     "output_type": "execute_result"
    }
   ],
   "source": [
    "#Count the number of genres' unique values.\n",
    "processed_google_play['Final_Genre'].describe()"
   ]
  },
  {
   "cell_type": "code",
   "execution_count": 30,
   "metadata": {},
   "outputs": [
    {
     "data": {
      "text/plain": [
       "count      10784\n",
       "unique        33\n",
       "top       FAMILY\n",
       "freq        1952\n",
       "Name: Category, dtype: object"
      ]
     },
     "execution_count": 30,
     "metadata": {},
     "output_type": "execute_result"
    }
   ],
   "source": [
    "#Count the number of categories' unique values.\n",
    "processed_google_play['Category'].describe()"
   ]
  },
  {
   "cell_type": "markdown",
   "metadata": {},
   "source": [
    "We have less categories than genres (33 vs. 48 repectively) and there are some common genres for both family and game apps. We can conclude that genres are more detailed than catergories, and therefore we will consider \"genres\" field for our analysis and drop the categories column."
   ]
  },
  {
   "cell_type": "code",
   "execution_count": 31,
   "metadata": {},
   "outputs": [],
   "source": [
    "#Drop \"Category\" column\n",
    "processed_google_play=processed_google_play.drop(columns=[\"Category\"]).copy()"
   ]
  },
  {
   "cell_type": "markdown",
   "metadata": {},
   "source": [
    "### Processing The \"Last Updated\",\"Current Ver\" and \"Android Ver\" Columns\n",
    "\n",
    "We will drop those columns since Android versions are updated every year and not relevant for our analysis.\n",
    "However, we are recommending the developers to make sure that their app is supported by the past 5 years Android versions."
   ]
  },
  {
   "cell_type": "code",
   "execution_count": 32,
   "metadata": {},
   "outputs": [],
   "source": [
    "#Delete \"Last Updated\",\"Current Ver\" and \"Android Ver\" columns\n",
    "processed_google_play=processed_google_play.drop(columns=[\"Current Ver\",\"Last Updated\",\"Android Ver\"]).copy()"
   ]
  },
  {
   "cell_type": "markdown",
   "metadata": {},
   "source": [
    "## Conveting Columns To Numeric Types\n",
    "After we cleaned the data, we have to make sure all columns are related to numeric type. <br>\n",
    "We need to do this step in order to draw charts and make the analysis working properly."
   ]
  },
  {
   "cell_type": "code",
   "execution_count": 33,
   "metadata": {},
   "outputs": [
    {
     "data": {
      "text/plain": [
       "App             object\n",
       "Rating         float64\n",
       "Reviews         object\n",
       "Installs         int32\n",
       "Type            object\n",
       "Price          float64\n",
       "Size(MB)       float64\n",
       "Final_Genre     object\n",
       "dtype: object"
      ]
     },
     "execution_count": 33,
     "metadata": {},
     "output_type": "execute_result"
    }
   ],
   "source": [
    "#List all columns' types\n",
    "processed_google_play.dtypes"
   ]
  },
  {
   "cell_type": "code",
   "execution_count": 34,
   "metadata": {},
   "outputs": [],
   "source": [
    "#Convert the objecct-typed columns to categorial or numeric.\n",
    "final_google_play=processed_google_play.copy()\n",
    "final_google_play['App']=final_google_play['App'].astype('category')\n",
    "final_google_play['Reviews']=final_google_play['Reviews'].astype(int)\n",
    "final_google_play['Type']=final_google_play['Type'].astype('category')\n",
    "final_google_play['Final_Genre']=final_google_play['Final_Genre'].astype('category')"
   ]
  },
  {
   "cell_type": "markdown",
   "metadata": {},
   "source": [
    "# Analysis Of The Data\n",
    "\n",
    "After processing the data, we want to get more information about it. "
   ]
  },
  {
   "cell_type": "code",
   "execution_count": 35,
   "metadata": {},
   "outputs": [
    {
     "data": {
      "image/png": "[encoded data removed]",
      "text/plain": [
       "<Figure size 432x288 with 1 Axes>"
      ]
     },
     "metadata": {
      "needs_background": "light"
     },
     "output_type": "display_data"
    }
   ],
   "source": [
    "#Drawing bar chart for free-paid apps.\n",
    "import numpy as np\n",
    "import seaborn as sns\n",
    "import matplotlib.pyplot as plt\n",
    "%matplotlib inline \n",
    "\n",
    "apps_per_type=final_google_play['Type'].value_counts(normalize=True)*100\n",
    "apps_per_type.plot.bar()\n",
    "plt.xlabel(\"Type\", labelpad=12)\n",
    "plt.ylabel(\"% of Apps\", labelpad=12)\n",
    "plt.yticks(np.arange(0, 100, 10))\n",
    "plt.grid(True)\n",
    "plt.title(\"Almost 90% of the Apps are for Free Use\",fontsize=15, y=1.00)\n",
    "plt.show()"
   ]
  },
  {
   "cell_type": "code",
   "execution_count": 36,
   "metadata": {},
   "outputs": [
    {
     "data": {
      "image/png": "[encoded data removed]",
      "text/plain": [
       "<Figure size 432x288 with 1 Axes>"
      ]
     },
     "metadata": {
      "needs_background": "light"
     },
     "output_type": "display_data"
    }
   ],
   "source": [
    "#Number of free apps vs. number of paid apps per top 10 genres\n",
    "N = 10\n",
    "genres_per_type=pd.pivot_table(final_google_play, values='App', index=final_google_play['Final_Genre'],columns=['Type'], aggfunc='count')\n",
    "genres_per_type=genres_per_type.sort_values(by=['Free'],ascending=False)[:N]\n",
    "\n",
    "ind = np.arange(N)    # the x locations for the groups\n",
    "width = 0.4       # the width of the bars: can also be len(x) sequence\n",
    "\n",
    "p1 = plt.bar(ind, genres_per_type['Free'], width)\n",
    "p2 = plt.bar(ind, genres_per_type['Paid'], width,bottom=genres_per_type['Free'])\n",
    "\n",
    "plt.ylabel('Number of apps')\n",
    "plt.title('Number of free apps vs. number of paid apps for top 10 genres', fontsize=15)\n",
    "plt.xticks(ind, genres_per_type.index, rotation=90)\n",
    "plt.yticks(np.arange(0, 850, 50))\n",
    "plt.grid(True)\n",
    "plt.legend((p1[0], p2[0]), ('Free', 'Paid'))\n",
    "plt.show()"
   ]
  },
  {
   "cell_type": "markdown",
   "metadata": {},
   "source": [
    "It looks like users are willing to pay for apps from top 3 genres(Tools, Enterainment and Education).<br>\n",
    "In our dataset, around 60% of Tools' apps and 40% of Entertainment & Education apps respectively are paid.<br>\n",
    "We can use this information for suggesting features as part of in-app purchases in free apps or alternatively provide improved features for in-advance payment. <br>\n",
    "In-app purchasing refers to buying extra content or subscriptions inside an application on a mobile device. \n",
    "Free apps are more likely to have in-app purchases feature. <br>"
   ]
  },
  {
   "cell_type": "code",
   "execution_count": 37,
   "metadata": {},
   "outputs": [],
   "source": [
    "#Create new column with installs' bins.\n",
    "final_google_play['Installs_bins'] = pd.cut(x=final_google_play['Installs'], bins=[10**i for i in range(0,10)], labels=['0-10','10-100','100-1k','1k-10k','100k-1M','1M-10M','10M-100M','100M-1B','1B-10B'])"
   ]
  },
  {
   "cell_type": "code",
   "execution_count": 38,
   "metadata": {},
   "outputs": [
    {
     "data": {
      "image/png": "[encoded data removed]",
      "text/plain": [
       "<Figure size 432x288 with 1 Axes>"
      ]
     },
     "metadata": {},
     "output_type": "display_data"
    }
   ],
   "source": [
    "#Bar chart of installs' bins\n",
    "sns.set(style=\"darkgrid\")\n",
    "ax = sns.countplot(x=\"Installs_bins\", data=final_google_play)\n",
    "plt.xticks(rotation=45)\n",
    "plt.xlabel(\"Number of Installs\", labelpad=12)\n",
    "plt.ylabel(\"Number of Apps\", labelpad=12)\n",
    "plt.yticks(np.arange(0, 2200, 200))\n",
    "plt.title(\"50% of the Apps have installed each more than 1M times\", fontsize=15, y=1.00)\n",
    "plt.show()"
   ]
  },
  {
   "cell_type": "markdown",
   "metadata": {},
   "source": [
    "Since we have a very large scale (from 0 to 10B installs), we will split this wide range into 10-powers bins.\n",
    "Each app will belong to its relevant bin. <br>\n",
    "In our dataset, 12% of the apps had been downloaded fewer than 100 times, and about 50% of the apps had been downloaded more than 1M times.<br>\n",
    "If development team wants to measure success of their own app, we suggest them to aim for at least 1M installs.  "
   ]
  },
  {
   "cell_type": "code",
   "execution_count": 39,
   "metadata": {},
   "outputs": [
    {
     "data": {
      "image/png": "[encoded data removed]",
      "text/plain": [
       "<Figure size 432x288 with 2 Axes>"
      ]
     },
     "metadata": {},
     "output_type": "display_data"
    }
   ],
   "source": [
    "#Correlation heatmap of features\n",
    "ax = plt.axes()\n",
    "corr = final_google_play.corr()\n",
    "sns.heatmap(corr, xticklabels=corr.columns, annot=True ,yticklabels=corr.columns,cmap=sns.diverging_palette(220, 10, as_cmap=True))\n",
    "ax.set_title('Corellation Heatmap of Numeric Features', fontsize=15)\n",
    "plt.show()"
   ]
  },
  {
   "cell_type": "markdown",
   "metadata": {},
   "source": [
    "We can see the reviews have high correlation (0.64) with installs.<br>\n",
    "Surprisingly price has no correlation with other features, including installs and reviews.<br>"
   ]
  },
  {
   "cell_type": "code",
   "execution_count": 40,
   "metadata": {},
   "outputs": [
    {
     "name": "stdout",
     "output_type": "stream",
     "text": [
      "Top 10 Genres of Which Their Apps Were Most-Installed:\n",
      "\n",
      "COMMUNICATION Genre has 32,647,766,251 Installs\n",
      "PRODUCTIVITY Genre has 14,176,041,369 Installs\n",
      "SOCIAL Genre has 14,069,867,902 Installs\n",
      "TOOLS Genre has 11,452,270,905 Installs\n",
      "ARCADE Genre has 10,793,339,156 Installs\n",
      "CASUAL Genre has 10,465,313,740 Installs\n",
      "PHOTOGRAPHY Genre has 10,088,247,555 Installs\n",
      "ACTION Genre has 9,430,059,690 Installs\n",
      "NEWS_AND_MAGAZINES Genre has 7,495,301,760 Installs\n",
      "TRAVEL_AND_LOCAL Genre has 6,868,887,146 Installs\n"
     ]
    }
   ],
   "source": [
    "#Bar chart of number of installs per genre\n",
    "installs_per_genre=final_google_play.groupby('Final_Genre')['Installs'].sum()\n",
    "installs_per_genre=installs_per_genre.sort_values(ascending=False)[:10]\n",
    "print(\"Top 10 Genres of Which Their Apps Were Most-Installed:\\n\")\n",
    "for counter, value in enumerate(installs_per_genre):\n",
    "    print(\"{0} Genre has {1:,.0f} Installs\".format(installs_per_genre.index[counter],value))"
   ]
  },
  {
   "cell_type": "markdown",
   "metadata": {},
   "source": [
    "We see that social and casual genres have each more then 10B installs for their apps.<br>\n",
    "Adventure, education, stategy and sports have between 1B to 3B installs for their apps.<br>\n",
    "Apps of role playing, card games, trivia and comics have between 50M to 500M for their apps.<br>\n",
    "\n",
    "Our suggestion to develop a game which involves social aspects (like competitions) in order to enhance the engagement of users in the long term.  "
   ]
  },
  {
   "cell_type": "code",
   "execution_count": 41,
   "metadata": {},
   "outputs": [
    {
     "data": {
      "image/png": "[encoded data removed]",
      "text/plain": [
       "<Figure size 720x504 with 1 Axes>"
      ]
     },
     "metadata": {},
     "output_type": "display_data"
    }
   ],
   "source": [
    "#Bar chart of number of reviews as percent of installs per genre\n",
    "reviews_per_genre=final_google_play.groupby('Final_Genre')['Installs','Reviews'].sum()\n",
    "reviews_per_genre['Reviews_Percent']=(reviews_per_genre['Reviews']/reviews_per_genre['Installs'])*100\n",
    "reviews_per_genre=reviews_per_genre.sort_values(by=['Reviews_Percent'],ascending=False)[:10]\n",
    "plt.figure(figsize=(10,7))\n",
    "plt.barh(reviews_per_genre.index, reviews_per_genre['Reviews_Percent'],align='center', alpha=0.7)\n",
    "plt.xlabel(\"% of Reviews / Installs\", labelpad=12)\n",
    "plt.ylabel(\"Genre\", labelpad=12)\n",
    "plt.title(\"Strategy Apps have the most reviews with 16% of Installs\",fontsize=15, y=1.00)\n",
    "plt.show()"
   ]
  },
  {
   "cell_type": "markdown",
   "metadata": {},
   "source": [
    "It's clear that strategy games get more reviews than any other genre (about 16% of its total installs). <br>\n",
    "That's because this kind of apps involve lots of technical and experiential features, hence users tend to share their opinions how to improve them while walking-through.<br>\n",
    "\n",
    "In general, It seems that only a small number of users take the time to write an app review. <br>\n",
    "On average, somewhere between 3% and 8% of users who download an app write reviews in the Google Play Store. <br>\n",
    "Our analysis has shown that users tend to leave more reviews for apps in sports, comics, role-playing and trivia genres."
   ]
  },
  {
   "cell_type": "code",
   "execution_count": 42,
   "metadata": {},
   "outputs": [
    {
     "data": {
      "image/png": "[encoded data removed]",
      "text/plain": [
       "<Figure size 432x288 with 1 Axes>"
      ]
     },
     "metadata": {},
     "output_type": "display_data"
    }
   ],
   "source": [
    "# Histogram of apps' rating\n",
    "plt.hist(final_google_play['Rating'], 10)\n",
    "plt.xlabel(\"Rating (1-5)\", labelpad=12)\n",
    "plt.ylabel(\"Number of Apps\", labelpad=12)\n",
    "plt.title(\"The Grade for 90% of The Apps Is Above 4 \\n 14% of Apps don't Have Rating at All\",fontsize=15, y=1.00)\n",
    "plt.show()"
   ]
  },
  {
   "cell_type": "markdown",
   "metadata": {},
   "source": [
    "# Dealing With Outliers\n",
    "\n",
    "Before we apply our model, we should handle the outliers we have in our dataset."
   ]
  },
  {
   "cell_type": "code",
   "execution_count": 43,
   "metadata": {},
   "outputs": [
    {
     "data": {
      "text/html": [
       "<div>\n",
       "<style scoped>\n",
       "    .dataframe tbody tr th:only-of-type {\n",
       "        vertical-align: middle;\n",
       "    }\n",
       "\n",
       "    .dataframe tbody tr th {\n",
       "        vertical-align: top;\n",
       "    }\n",
       "\n",
       "    .dataframe thead th {\n",
       "        text-align: right;\n",
       "    }\n",
       "</style>\n",
       "<table border=\"1\" class=\"dataframe\">\n",
       "  <thead>\n",
       "    <tr style=\"text-align: right;\">\n",
       "      <th></th>\n",
       "      <th>Rating</th>\n",
       "      <th>Reviews</th>\n",
       "      <th>Installs</th>\n",
       "      <th>Price</th>\n",
       "      <th>Size(MB)</th>\n",
       "    </tr>\n",
       "  </thead>\n",
       "  <tbody>\n",
       "    <tr>\n",
       "      <th>count</th>\n",
       "      <td>10784.000000</td>\n",
       "      <td>1.078400e+04</td>\n",
       "      <td>1.078400e+04</td>\n",
       "      <td>10784.000000</td>\n",
       "      <td>10784.000000</td>\n",
       "    </tr>\n",
       "    <tr>\n",
       "      <th>mean</th>\n",
       "      <td>4.191821</td>\n",
       "      <td>4.464254e+05</td>\n",
       "      <td>1.554319e+07</td>\n",
       "      <td>0.993763</td>\n",
       "      <td>21.549068</td>\n",
       "    </tr>\n",
       "    <tr>\n",
       "      <th>std</th>\n",
       "      <td>0.479223</td>\n",
       "      <td>2.935183e+06</td>\n",
       "      <td>8.524278e+07</td>\n",
       "      <td>15.522142</td>\n",
       "      <td>20.763867</td>\n",
       "    </tr>\n",
       "    <tr>\n",
       "      <th>min</th>\n",
       "      <td>1.000000</td>\n",
       "      <td>0.000000e+00</td>\n",
       "      <td>0.000000e+00</td>\n",
       "      <td>0.000000</td>\n",
       "      <td>0.008500</td>\n",
       "    </tr>\n",
       "    <tr>\n",
       "      <th>25%</th>\n",
       "      <td>4.100000</td>\n",
       "      <td>3.800000e+01</td>\n",
       "      <td>5.000000e+03</td>\n",
       "      <td>0.000000</td>\n",
       "      <td>5.900000</td>\n",
       "    </tr>\n",
       "    <tr>\n",
       "      <th>50%</th>\n",
       "      <td>4.200000</td>\n",
       "      <td>2.137000e+03</td>\n",
       "      <td>1.000000e+05</td>\n",
       "      <td>0.000000</td>\n",
       "      <td>18.000000</td>\n",
       "    </tr>\n",
       "    <tr>\n",
       "      <th>75%</th>\n",
       "      <td>4.500000</td>\n",
       "      <td>5.539175e+04</td>\n",
       "      <td>5.000000e+06</td>\n",
       "      <td>0.000000</td>\n",
       "      <td>26.000000</td>\n",
       "    </tr>\n",
       "    <tr>\n",
       "      <th>max</th>\n",
       "      <td>5.000000</td>\n",
       "      <td>7.815831e+07</td>\n",
       "      <td>1.000000e+09</td>\n",
       "      <td>400.000000</td>\n",
       "      <td>100.000000</td>\n",
       "    </tr>\n",
       "  </tbody>\n",
       "</table>\n",
       "</div>"
      ],
      "text/plain": [
       "             Rating       Reviews      Installs         Price      Size(MB)\n",
       "count  10784.000000  1.078400e+04  1.078400e+04  10784.000000  10784.000000\n",
       "mean       4.191821  4.464254e+05  1.554319e+07      0.993763     21.549068\n",
       "std        0.479223  2.935183e+06  8.524278e+07     15.522142     20.763867\n",
       "min        1.000000  0.000000e+00  0.000000e+00      0.000000      0.008500\n",
       "25%        4.100000  3.800000e+01  5.000000e+03      0.000000      5.900000\n",
       "50%        4.200000  2.137000e+03  1.000000e+05      0.000000     18.000000\n",
       "75%        4.500000  5.539175e+04  5.000000e+06      0.000000     26.000000\n",
       "max        5.000000  7.815831e+07  1.000000e+09    400.000000    100.000000"
      ]
     },
     "execution_count": 43,
     "metadata": {},
     "output_type": "execute_result"
    }
   ],
   "source": [
    "#Show statistics for numeric columns\n",
    "final_google_play.describe()"
   ]
  },
  {
   "cell_type": "markdown",
   "metadata": {},
   "source": [
    "We can see that we have outliers in Price and Size columns because their max values are higher <br>\n",
    "The distributions of installs and reviews expend on wide range and the median is 100 times fewer than the mean.<br>\n",
    "Hence, we won't remove outliers from both coulmns because it might change dramatically the distributions.<br>\n",
    "Let's look closer at the other outliers before we drop them."
   ]
  },
  {
   "cell_type": "code",
   "execution_count": 44,
   "metadata": {
    "scrolled": true
   },
   "outputs": [
    {
     "name": "stdout",
     "output_type": "stream",
     "text": [
      "Number of Size Outliers :636 out of 10784\n"
     ]
    },
    {
     "data": {
      "image/png": "[encoded data removed]",
      "text/plain": [
       "<Figure size 432x288 with 1 Axes>"
      ]
     },
     "metadata": {},
     "output_type": "display_data"
    }
   ],
   "source": [
    "#Calculate number of statistic outliers for \"Size\" column\n",
    "mean_size=final_google_play['Size(MB)'].mean()\n",
    "std_size=final_google_play['Size(MB)'].std()\n",
    "outliers_size=final_google_play['Size(MB)']>mean_size+std_size*2\n",
    "print(\"Number of Size Outliers :\"+str(sum(outliers_size))+\" out of \"+str(len(final_google_play)))\n",
    "\n",
    "#Create boxplot for \"Size\" column\n",
    "sns.boxplot(x=final_google_play['Size(MB)'])\n",
    "plt.title(\"6% of Apps are Statistically Size-Outliers\",fontsize=15, y=1.00)\n",
    "plt.show()"
   ]
  },
  {
   "cell_type": "markdown",
   "metadata": {},
   "source": [
    "Around 6% of apps are statistically size-outliers. <br>\n",
    "Sometimes apps tend to use more storage due to a large number of features. <br>\n",
    "Because it's a low rate of outliers for this coulmn, we will leave tt as is."
   ]
  },
  {
   "cell_type": "code",
   "execution_count": 45,
   "metadata": {
    "scrolled": true
   },
   "outputs": [
    {
     "name": "stdout",
     "output_type": "stream",
     "text": [
      "Number of Price Outliers :29\n"
     ]
    },
    {
     "data": {
      "image/png": "[encoded data removed]",
      "text/plain": [
       "<Figure size 432x288 with 1 Axes>"
      ]
     },
     "metadata": {},
     "output_type": "display_data"
    }
   ],
   "source": [
    "#Calculate number of statistic outliers for \"Price\" column\n",
    "mean_size=final_google_play['Price'].mean()\n",
    "std_size=final_google_play['Price'].std()\n",
    "outliers_size=final_google_play['Price']>mean_size+std_size*2\n",
    "print(\"Number of Price Outliers :\"+str(sum(outliers_size)))\n",
    "\n",
    "#Create boxplot for \"Price\" column\n",
    "sns.boxplot(x=final_google_play['Price'])\n",
    "plt.title(\"29 Apps are Relatively Very Expensive\",fontsize=15, y=1.00)\n",
    "plt.show()"
   ]
  },
  {
   "cell_type": "markdown",
   "metadata": {},
   "source": [
    "Because we have only 29 apps with relatively high price, we will remove them from our analysis."
   ]
  },
  {
   "cell_type": "code",
   "execution_count": 46,
   "metadata": {},
   "outputs": [],
   "source": [
    "#Drop apps with price outliers\n",
    "final_google_play=final_google_play.drop(index=outliers_size[outliers_size].index)"
   ]
  },
  {
   "cell_type": "code",
   "execution_count": 47,
   "metadata": {},
   "outputs": [
    {
     "data": {
      "text/plain": [
       "App              category\n",
       "Rating            float64\n",
       "Reviews             int32\n",
       "Installs            int32\n",
       "Type             category\n",
       "Price             float64\n",
       "Size(MB)          float64\n",
       "Final_Genre      category\n",
       "Installs_bins    category\n",
       "dtype: object"
      ]
     },
     "execution_count": 47,
     "metadata": {},
     "output_type": "execute_result"
    }
   ],
   "source": [
    "#Remider of columns' types\n",
    "final_google_play.dtypes"
   ]
  },
  {
   "cell_type": "markdown",
   "metadata": {},
   "source": [
    "Before applying the model, we will create dummy variables for the categorial features \"Final_Genre\" and \"Type\".<br>\n",
    "In Addition, we need to and remove \"app\" column because it has unique values and will bias our model.\n",
    "We will ,also ,remove \"Installs_bin\" column, because it's a duplicated column which was used only for the previous analysis, and we don't need it for our model."
   ]
  },
  {
   "cell_type": "code",
   "execution_count": 48,
   "metadata": {},
   "outputs": [],
   "source": [
    "#Create dummy columns for \"Type\" & \"Final_Genre\"\n",
    "dummies=pd.get_dummies(final_google_play[['Final_Genre','Type']],prefix=['Genre', 'Type'])\n",
    "#Prepare relevant columns for the model\n",
    "model_google_play=pd.concat([final_google_play[['Reviews','Rating','Installs','Price','Size(MB)']],dummies],sort=False,axis=1)"
   ]
  },
  {
   "cell_type": "markdown",
   "metadata": {},
   "source": [
    "we want to ensure that some features don't weight more than the others.<br>\n",
    "Hence, we will rescale all of the columns to vary between 0 to 1, except the target variable (\"Installs\")."
   ]
  },
  {
   "cell_type": "code",
   "execution_count": 49,
   "metadata": {},
   "outputs": [],
   "source": [
    "#Rescale all columns and saparate the dataset to \n",
    "actual_x=(model_google_play.drop(columns=['Installs'])-model_google_play.drop(columns=['Installs']).min())/(model_google_play.drop(columns=['Installs']).max()-model_google_play.drop(columns=['Installs']).min())\n",
    "actual_y=model_google_play['Installs']\n",
    "features=actual_x.columns"
   ]
  },
  {
   "cell_type": "markdown",
   "metadata": {},
   "source": [
    "# Applying The Predictive Model\n",
    "\n",
    "In our model, we will apply liniar regression model in order to predict the number of installs based on our given features. <br>\n",
    "\n",
    "Firstly, we will split our dataset to train and test subsets ,with porpotions of 80-20% respectively, and secondly we will use cross validation technique to prevent over-fitting of our model to the dataset .<br>\n",
    "\n",
    "The training subset contains a known output and the model learns on this data in order to be generalized to other data later on. We have the test subset in order to test our model’s prediction on this subset. <br>\n",
    "\n",
    "Our goal is to find the optimal model parameter values that best describe the relationship between the feature columns and target column.<br>\n",
    "\n",
    "We will evaluate our model performance by Root-Mean-Square Error (RMSE)."
   ]
  },
  {
   "cell_type": "code",
   "execution_count": 50,
   "metadata": {},
   "outputs": [
    {
     "name": "stdout",
     "output_type": "stream",
     "text": [
      "Our initial model has RMSE equals to 55,855,824\n"
     ]
    }
   ],
   "source": [
    "#Split the datasert to train and test subsets\n",
    "from sklearn.model_selection import train_test_split\n",
    "X_train, X_test, y_train, y_test = train_test_split(actual_x, actual_y, test_size=0.2, random_state=1)\n",
    "\n",
    "#Fit liniar regression model on our train set \n",
    "from sklearn.linear_model import LinearRegression\n",
    "lr= LinearRegression()\n",
    "lr.fit(X_train,y_train)\n",
    "\n",
    "#Predict the installs of our test subset with the model. \n",
    "lr_predictions=lr.predict(X_test)\n",
    "\n",
    "# Calculate the Root-Mean-Squared errors\n",
    "from sklearn.metrics import mean_squared_error\n",
    "from math import sqrt\n",
    "\n",
    "lr_rmse = sqrt(mean_squared_error(y_test, lr_predictions))\n",
    "print(\"Our initial model has RMSE equals to {0:,.0f}\".format(lr_rmse))"
   ]
  },
  {
   "cell_type": "markdown",
   "metadata": {},
   "source": [
    "We got relatively high RMSE for our model, but we need to have in mind that model haven't been tested on other subsets.<br>\n",
    "Hence, we will use cross validation technique to check whether our model can be applied to other subsets."
   ]
  },
  {
   "cell_type": "code",
   "execution_count": 51,
   "metadata": {},
   "outputs": [
    {
     "name": "stdout",
     "output_type": "stream",
     "text": [
      "Our model has RMSE equals to 15,381,019,348,710,138.0 after using Cross-Validation\n"
     ]
    }
   ],
   "source": [
    "#Calculate average RMSE of Cross validtion with 5 folds\n",
    "from sklearn.model_selection import cross_val_score\n",
    "cross_val_lr_model=cross_val_score(lr, actual_x, actual_y, cv=5, scoring='neg_mean_squared_error')\n",
    "cross_scores_corrected = np.sqrt(-1 * cross_val_lr_model) \n",
    "mean_cross_scores_corrected=np.mean(cross_scores_corrected)\n",
    "print(\"Our model has RMSE equals to {0:,.1f} after using Cross-Validation\".format(mean_cross_scores_corrected))"
   ]
  },
  {
   "cell_type": "markdown",
   "metadata": {},
   "source": [
    "We got worse result for our model performance by the cross validation. This score is 275M times higher than the one of the original model. <br>\n",
    "We have some options to execute:\n",
    "1. Redcuing the number of selected features for our regression model.\n",
    "2. Changing the number of folds as part of the cross validation process for our regression model.\n",
    "3. Using another algorithm for our model (i.e. Random Forests).\n",
    "\n",
    "Let's try to implement the first option. <br>\n",
    "For feature selection, we will use recursive feature elimination (RFE)."
   ]
  },
  {
   "cell_type": "code",
   "execution_count": 52,
   "metadata": {},
   "outputs": [
    {
     "name": "stdout",
     "output_type": "stream",
     "text": [
      "Number of selected features: 5\n",
      "These are the selected features: \n",
      "\n",
      "Genre_ARCADE\n",
      "Genre_CASUAL\n",
      "Genre_COMMUNICATION\n",
      "Genre_SOCIAL\n",
      "Genre_VIDEO_PLAYERS_AND_EDITORS\n"
     ]
    }
   ],
   "source": [
    "# Find the N top features based on RFE method.\n",
    "from sklearn.feature_selection import RFE\n",
    "number_of_features=5\n",
    "rfe = RFE(lr, number_of_features)\n",
    "rfe_results = rfe.fit(X_train, y_train)\n",
    "\n",
    "#Sorting the coefficients by their ranking\n",
    "def sortSecond(val): \n",
    "    return val[1]\n",
    "\n",
    "coef_ranking=[]\n",
    "for c, value in enumerate(features, 0):\n",
    "    coef_ranking.append((features[c], rfe_results.ranking_[c]))\n",
    "\n",
    "coef_ranking.sort(key = sortSecond, reverse = False)\n",
    "\n",
    "#Print the selected features\n",
    "print(\"Number of selected features: %s\" % (rfe_results.n_features_))\n",
    "print(\"These are the selected features: \\n\")\n",
    "selected_features=[]\n",
    "\n",
    "for element in coef_ranking[:5]:\n",
    "    selected_features.append(element[0])\n",
    "    print(element[0])"
   ]
  },
  {
   "cell_type": "code",
   "execution_count": 53,
   "metadata": {},
   "outputs": [
    {
     "name": "stdout",
     "output_type": "stream",
     "text": [
      "Our model with top selected features has RMSE equals to 72,835,513\n"
     ]
    }
   ],
   "source": [
    "#Fit liniar regression model on our train set with the selected features \n",
    "X_train, X_test, y_train, y_test = train_test_split(actual_x[selected_features], actual_y, test_size=0.2, random_state=2)\n",
    "lr_reduced_features= LinearRegression()\n",
    "lr_reduced_features.fit(X_train,y_train)\n",
    "\n",
    "#Predict the installs of our test subset with the model. \n",
    "lr_reduced_features_predictions=lr_reduced_features.predict(X_test)\n",
    "\n",
    "#Calculate average RMSE of Cross validtion with 5 folds\n",
    "cross_val_lr_fs_model=cross_val_score(lr_reduced_features, actual_x[selected_features], actual_y, cv=5, scoring='neg_mean_squared_error')\n",
    "cross_scores_corrected = np.sqrt(-1 * cross_val_lr_fs_model) \n",
    "mean_cross_scores_corrected=np.mean(cross_scores_corrected)\n",
    "print(\"Our model with top selected features has RMSE equals to {0:,.0f}\".format(mean_cross_scores_corrected))"
   ]
  },
  {
   "cell_type": "markdown",
   "metadata": {},
   "source": [
    "Feature selection improved dramaticly our model, while RMSE has been reduced from  1.53x10^16 to 7.2x10^7). <br>\n",
    "We should notice that social & casual apps were the most popular among the users in our dataset.<br>\n",
    "Hence, we shouldn't be surprised from this finding.\n",
    "Let's try to implement those features as part of Random Forest (RF) algorithm."
   ]
  },
  {
   "cell_type": "code",
   "execution_count": 54,
   "metadata": {},
   "outputs": [
    {
     "name": "stdout",
     "output_type": "stream",
     "text": [
      "Our Random-Forests model with top selected features has RMSE equals to 80,900,433\n"
     ]
    }
   ],
   "source": [
    "from sklearn.ensemble import RandomForestRegressor\n",
    "# Instantiate model with 1000 decision trees\n",
    "rf_seleted_features = RandomForestRegressor(n_estimators = 1000, random_state = 3)\n",
    "# Train the model on training data\n",
    "rf_seleted_features.fit(X_train[selected_features], y_train)\n",
    "rf_seleted_features_predictions=rf_seleted_features.predict(X_test[selected_features])\n",
    "rf_seleted_features_rmse = sqrt(mean_squared_error(y_test, rf_seleted_features_predictions))\n",
    "print(\"Our Random-Forests model with top selected features has RMSE equals to {0:,.0f}\".format(rf_seleted_features_rmse))"
   ]
  },
  {
   "cell_type": "markdown",
   "metadata": {},
   "source": [
    "We can see that our RF model doesn't perform better than the regression model. <br>\n",
    "Possible reason for that is selecting features which explain linear relation to the target variable and using them also in RF model. This way we restricted the RF to take other features that may perform better."
   ]
  },
  {
   "cell_type": "markdown",
   "metadata": {},
   "source": [
    "# Conclusions\n",
    "\n",
    "During our project, we made analysis about 10,000 Google-Play apps and explored by liniar regression & random forest models how we can predict the number of installs for each app based on its features.\n",
    "\n",
    "We reached the following conclusions:\n",
    "\n",
    "- Although 90% of apps are free of charge, users tend to pay for apps from genres Tools,Entertainment and   Education.<br>\n",
    "- 50% of apps were installed each more then 1M times. We suggest our development team to aim for installing their app 1M or more times in order to define the success of app. <br>\n",
    "- The most popular genres are: Social, Casual, Sports, Strategy and Education.\n",
    "- Strategy gemes are the most reviewed among all genres.\n",
    "- Liniar regression algorithm with certain genres as features has the best performance while predicting the apps' installs.\n",
    "\n",
    "We decided to send the results to the development team ,so they can consider our findings to take the best decision."
   ]
  }
 ],
 "metadata": {
  "kernelspec": {
   "display_name": "Python 3",
   "language": "python",
   "name": "python3"
  },
  "language_info": {
   "codemirror_mode": {
    "name": "ipython",
    "version": 3
   },
   "file_extension": ".py",
   "mimetype": "text/x-python",
   "name": "python",
   "nbconvert_exporter": "python",
   "pygments_lexer": "ipython3",
   "version": "3.7.3"
  }
 },
 "nbformat": 4,
 "nbformat_minor": 2
}
